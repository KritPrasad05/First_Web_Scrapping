{
  "nbformat": 4,
  "nbformat_minor": 0,
  "metadata": {
    "colab": {
      "provenance": [],
      "toc_visible": true,
      "include_colab_link": true
    },
    "kernelspec": {
      "name": "python3",
      "display_name": "Python 3"
    },
    "language_info": {
      "name": "python"
    }
  },
  "cells": [
    {
      "cell_type": "markdown",
      "metadata": {
        "id": "view-in-github",
        "colab_type": "text"
      },
      "source": [
        "<a href=\"https://colab.research.google.com/github/KritPrasad05/First_Web_Scrapping/blob/main/Coding_X_TwitterScraperTest_(Bitgoro).ipynb\" target=\"_parent\"><img src=\"https://colab.research.google.com/assets/colab-badge.svg\" alt=\"Open In Colab\"/></a>"
      ]
    },
    {
      "cell_type": "code",
      "source": [],
      "metadata": {
        "id": "tdZj7TcYaGtE"
      },
      "execution_count": null,
      "outputs": []
    },
    {
      "cell_type": "markdown",
      "metadata": {
        "id": "7lQ8Ze-W4py8"
      },
      "source": [
        "## **Problem Statement**\n",
        "\n",
        "\n",
        "\n",
        "1.   We want to scrape text from given list of tweets\n",
        "2.   We want to save output from extracted text to Output worksheet\n",
        "3.   you can use any libraries you want\n",
        "4.   This should not take any more then 4 hours to complete.\n",
        "\n",
        "### Sample Input (Form 1 Responses Worksheet) :\n",
        "https://docs.google.com/spreadsheets/d/1mw6FCkwsAvWrh3CA7DqFT8HzxMxuGlTE6OfwhRB-JKo\n",
        "\n",
        "### Sample Output (Output Worksheet):\n",
        "https://docs.google.com/spreadsheets/d/1mw6FCkwsAvWrh3CA7DqFT8HzxMxuGlTE6OfwhRB-JKo\n",
        "\n",
        "\n",
        "## **Essential Learning Material**\n",
        "\n",
        "https://we.tl/t-fT1bUrD0OU\n"
      ]
    },
    {
      "cell_type": "code",
      "metadata": {
        "id": "Rxj5sh0dpPWZ",
        "colab": {
          "base_uri": "https://localhost:8080/"
        },
        "outputId": "ae6e38fd-f45b-4326-81b6-f46a5a01d8ee"
      },
      "source": [
        "!pip install tweepy\n",
        "!pip install gspread==4.0.0\n",
        "!pip install oauth2client\n"
      ],
      "execution_count": null,
      "outputs": [
        {
          "output_type": "stream",
          "name": "stdout",
          "text": [
            "Requirement already satisfied: tweepy in /usr/local/lib/python3.10/dist-packages (4.13.0)\n",
            "Requirement already satisfied: oauthlib<4,>=3.2.0 in /usr/local/lib/python3.10/dist-packages (from tweepy) (3.2.2)\n",
            "Requirement already satisfied: requests<3,>=2.27.0 in /usr/local/lib/python3.10/dist-packages (from tweepy) (2.31.0)\n",
            "Requirement already satisfied: requests-oauthlib<2,>=1.2.0 in /usr/local/lib/python3.10/dist-packages (from tweepy) (1.3.1)\n",
            "Requirement already satisfied: charset-normalizer<4,>=2 in /usr/local/lib/python3.10/dist-packages (from requests<3,>=2.27.0->tweepy) (3.2.0)\n",
            "Requirement already satisfied: idna<4,>=2.5 in /usr/local/lib/python3.10/dist-packages (from requests<3,>=2.27.0->tweepy) (3.4)\n",
            "Requirement already satisfied: urllib3<3,>=1.21.1 in /usr/local/lib/python3.10/dist-packages (from requests<3,>=2.27.0->tweepy) (2.0.4)\n",
            "Requirement already satisfied: certifi>=2017.4.17 in /usr/local/lib/python3.10/dist-packages (from requests<3,>=2.27.0->tweepy) (2023.7.22)\n",
            "Requirement already satisfied: gspread==4.0.0 in /usr/local/lib/python3.10/dist-packages (4.0.0)\n",
            "Requirement already satisfied: google-auth>=1.12.0 in /usr/local/lib/python3.10/dist-packages (from gspread==4.0.0) (2.17.3)\n",
            "Requirement already satisfied: google-auth-oauthlib>=0.4.1 in /usr/local/lib/python3.10/dist-packages (from gspread==4.0.0) (1.0.0)\n",
            "Requirement already satisfied: cachetools<6.0,>=2.0.0 in /usr/local/lib/python3.10/dist-packages (from google-auth>=1.12.0->gspread==4.0.0) (5.3.1)\n",
            "Requirement already satisfied: pyasn1-modules>=0.2.1 in /usr/local/lib/python3.10/dist-packages (from google-auth>=1.12.0->gspread==4.0.0) (0.3.0)\n",
            "Requirement already satisfied: six>=1.9.0 in /usr/local/lib/python3.10/dist-packages (from google-auth>=1.12.0->gspread==4.0.0) (1.16.0)\n",
            "Requirement already satisfied: rsa<5,>=3.1.4 in /usr/local/lib/python3.10/dist-packages (from google-auth>=1.12.0->gspread==4.0.0) (4.9)\n",
            "Requirement already satisfied: requests-oauthlib>=0.7.0 in /usr/local/lib/python3.10/dist-packages (from google-auth-oauthlib>=0.4.1->gspread==4.0.0) (1.3.1)\n",
            "Requirement already satisfied: pyasn1<0.6.0,>=0.4.6 in /usr/local/lib/python3.10/dist-packages (from pyasn1-modules>=0.2.1->google-auth>=1.12.0->gspread==4.0.0) (0.5.0)\n",
            "Requirement already satisfied: oauthlib>=3.0.0 in /usr/local/lib/python3.10/dist-packages (from requests-oauthlib>=0.7.0->google-auth-oauthlib>=0.4.1->gspread==4.0.0) (3.2.2)\n",
            "Requirement already satisfied: requests>=2.0.0 in /usr/local/lib/python3.10/dist-packages (from requests-oauthlib>=0.7.0->google-auth-oauthlib>=0.4.1->gspread==4.0.0) (2.31.0)\n",
            "Requirement already satisfied: charset-normalizer<4,>=2 in /usr/local/lib/python3.10/dist-packages (from requests>=2.0.0->requests-oauthlib>=0.7.0->google-auth-oauthlib>=0.4.1->gspread==4.0.0) (3.2.0)\n",
            "Requirement already satisfied: idna<4,>=2.5 in /usr/local/lib/python3.10/dist-packages (from requests>=2.0.0->requests-oauthlib>=0.7.0->google-auth-oauthlib>=0.4.1->gspread==4.0.0) (3.4)\n",
            "Requirement already satisfied: urllib3<3,>=1.21.1 in /usr/local/lib/python3.10/dist-packages (from requests>=2.0.0->requests-oauthlib>=0.7.0->google-auth-oauthlib>=0.4.1->gspread==4.0.0) (2.0.4)\n",
            "Requirement already satisfied: certifi>=2017.4.17 in /usr/local/lib/python3.10/dist-packages (from requests>=2.0.0->requests-oauthlib>=0.7.0->google-auth-oauthlib>=0.4.1->gspread==4.0.0) (2023.7.22)\n",
            "Requirement already satisfied: oauth2client in /usr/local/lib/python3.10/dist-packages (4.1.3)\n",
            "Requirement already satisfied: httplib2>=0.9.1 in /usr/local/lib/python3.10/dist-packages (from oauth2client) (0.22.0)\n",
            "Requirement already satisfied: pyasn1>=0.1.7 in /usr/local/lib/python3.10/dist-packages (from oauth2client) (0.5.0)\n",
            "Requirement already satisfied: pyasn1-modules>=0.0.5 in /usr/local/lib/python3.10/dist-packages (from oauth2client) (0.3.0)\n",
            "Requirement already satisfied: rsa>=3.1.4 in /usr/local/lib/python3.10/dist-packages (from oauth2client) (4.9)\n",
            "Requirement already satisfied: six>=1.6.1 in /usr/local/lib/python3.10/dist-packages (from oauth2client) (1.16.0)\n",
            "Requirement already satisfied: pyparsing!=3.0.0,!=3.0.1,!=3.0.2,!=3.0.3,<4,>=2.4.2 in /usr/local/lib/python3.10/dist-packages (from httplib2>=0.9.1->oauth2client) (3.1.1)\n"
          ]
        }
      ]
    },
    {
      "cell_type": "code",
      "metadata": {
        "id": "jHtKdCUx2of9",
        "colab": {
          "base_uri": "https://localhost:8080/"
        },
        "outputId": "d351dc29-4694-4696-d42c-04e05b38845e"
      },
      "source": [
        "!pip install requests"
      ],
      "execution_count": null,
      "outputs": [
        {
          "output_type": "stream",
          "name": "stdout",
          "text": [
            "Requirement already satisfied: requests in /usr/local/lib/python3.10/dist-packages (2.31.0)\n",
            "Requirement already satisfied: charset-normalizer<4,>=2 in /usr/local/lib/python3.10/dist-packages (from requests) (3.2.0)\n",
            "Requirement already satisfied: idna<4,>=2.5 in /usr/local/lib/python3.10/dist-packages (from requests) (3.4)\n",
            "Requirement already satisfied: urllib3<3,>=1.21.1 in /usr/local/lib/python3.10/dist-packages (from requests) (2.0.4)\n",
            "Requirement already satisfied: certifi>=2017.4.17 in /usr/local/lib/python3.10/dist-packages (from requests) (2023.7.22)\n"
          ]
        }
      ]
    },
    {
      "cell_type": "code",
      "source": [
        "pip install twitter\n"
      ],
      "metadata": {
        "colab": {
          "base_uri": "https://localhost:8080/"
        },
        "id": "2eSpKvzf7IRU",
        "outputId": "0f4c5d42-e4a5-400d-d7de-bcabaaede6f0"
      },
      "execution_count": null,
      "outputs": [
        {
          "output_type": "stream",
          "name": "stdout",
          "text": [
            "Collecting twitter\n",
            "  Downloading twitter-1.19.6-py2.py3-none-any.whl (50 kB)\n",
            "\u001b[2K     \u001b[90m━━━━━━━━━━━━━━━━━━━━━━━━━━━━━━━━━━━━━━━━\u001b[0m \u001b[32m50.3/50.3 kB\u001b[0m \u001b[31m1.6 MB/s\u001b[0m eta \u001b[36m0:00:00\u001b[0m\n",
            "\u001b[?25hRequirement already satisfied: certifi in /usr/local/lib/python3.10/dist-packages (from twitter) (2023.7.22)\n",
            "Installing collected packages: twitter\n",
            "Successfully installed twitter-1.19.6\n"
          ]
        }
      ]
    },
    {
      "cell_type": "code",
      "source": [
        "pip install python-twitter"
      ],
      "metadata": {
        "colab": {
          "base_uri": "https://localhost:8080/"
        },
        "id": "DhyRBQMW9Mff",
        "outputId": "5a46cb17-098d-4b35-d7be-bf7aea1234f9"
      },
      "execution_count": null,
      "outputs": [
        {
          "output_type": "stream",
          "name": "stdout",
          "text": [
            "Collecting python-twitter\n",
            "  Downloading python_twitter-3.5-py2.py3-none-any.whl (67 kB)\n",
            "\u001b[?25l     \u001b[90m━━━━━━━━━━━━━━━━━━━━━━━━━━━━━━━━━━━━━━━━\u001b[0m \u001b[32m0.0/67.4 kB\u001b[0m \u001b[31m?\u001b[0m eta \u001b[36m-:--:--\u001b[0m\r\u001b[2K     \u001b[90m━━━━━━━━━━━━━━━━━━━━━━━━━━━━━━━━━━━━━━━━\u001b[0m \u001b[32m67.4/67.4 kB\u001b[0m \u001b[31m2.3 MB/s\u001b[0m eta \u001b[36m0:00:00\u001b[0m\n",
            "\u001b[?25hRequirement already satisfied: future in /usr/local/lib/python3.10/dist-packages (from python-twitter) (0.18.3)\n",
            "Requirement already satisfied: requests in /usr/local/lib/python3.10/dist-packages (from python-twitter) (2.31.0)\n",
            "Requirement already satisfied: requests-oauthlib in /usr/local/lib/python3.10/dist-packages (from python-twitter) (1.3.1)\n",
            "Requirement already satisfied: charset-normalizer<4,>=2 in /usr/local/lib/python3.10/dist-packages (from requests->python-twitter) (3.2.0)\n",
            "Requirement already satisfied: idna<4,>=2.5 in /usr/local/lib/python3.10/dist-packages (from requests->python-twitter) (3.4)\n",
            "Requirement already satisfied: urllib3<3,>=1.21.1 in /usr/local/lib/python3.10/dist-packages (from requests->python-twitter) (2.0.4)\n",
            "Requirement already satisfied: certifi>=2017.4.17 in /usr/local/lib/python3.10/dist-packages (from requests->python-twitter) (2023.7.22)\n",
            "Requirement already satisfied: oauthlib>=3.0.0 in /usr/local/lib/python3.10/dist-packages (from requests-oauthlib->python-twitter) (3.2.2)\n",
            "Installing collected packages: python-twitter\n",
            "Successfully installed python-twitter-3.5\n"
          ]
        }
      ]
    },
    {
      "cell_type": "code",
      "metadata": {
        "id": "vnXoi1wmpW2P"
      },
      "source": [
        "# importing the required libraries\n",
        "import gspread\n",
        "import pandas as pd\n",
        "from oauth2client.service_account import ServiceAccountCredentials\n",
        "import requests\n",
        "import tweepy\n",
        "import twitter\n",
        "from datetime import datetime"
      ],
      "execution_count": null,
      "outputs": []
    },
    {
      "cell_type": "code",
      "metadata": {
        "id": "ROXjBsox2iOa"
      },
      "source": [
        "credential_url = \"https://gist.githubusercontent.com/vrushangdev/e26987231a1e8517b6b7f3487f74d6d0/raw/9339c09c2298a3b91fc743c67ee880ce79e1c5e7/gsheet_creds.json\""
      ],
      "execution_count": null,
      "outputs": []
    },
    {
      "cell_type": "code",
      "metadata": {
        "id": "2-ozik_72mtb"
      },
      "source": [
        "response = requests.get(credential_url)"
      ],
      "execution_count": null,
      "outputs": []
    },
    {
      "cell_type": "code",
      "metadata": {
        "id": "1qL2-hlS209c"
      },
      "source": [
        "try:\n",
        "  cred_file = open('file.json','w')\n",
        "  cred_file.write(response.text)\n",
        "  cred_file.close()\n",
        "except Exception as e:\n",
        "  print(e)\n",
        "finally:\n",
        "  cred_file.close()"
      ],
      "execution_count": null,
      "outputs": []
    },
    {
      "cell_type": "code",
      "metadata": {
        "id": "5K7E6V63qYAx"
      },
      "source": [
        "import gspread"
      ],
      "execution_count": null,
      "outputs": []
    },
    {
      "cell_type": "code",
      "metadata": {
        "id": "kF0eopR9zPki"
      },
      "source": [
        "import gspread\n",
        "from oauth2client.service_account import ServiceAccountCredentials\n"
      ],
      "execution_count": null,
      "outputs": []
    },
    {
      "cell_type": "code",
      "metadata": {
        "id": "5Y-6nVGazytl"
      },
      "source": [
        "gc = gspread.service_account(filename='/content/file.json')"
      ],
      "execution_count": null,
      "outputs": []
    },
    {
      "cell_type": "code",
      "metadata": {
        "id": "4VlZM229z5Sg"
      },
      "source": [
        "gsheet = gc.open_by_url(\"https://docs.google.com/spreadsheets/d/1mw6FCkwsAvWrh3CA7DqFT8HzxMxuGlTE6OfwhRB-JKo\")\n"
      ],
      "execution_count": null,
      "outputs": []
    },
    {
      "cell_type": "code",
      "metadata": {
        "id": "Imz7c1o81mAi"
      },
      "source": [
        "work_sheet = gsheet.worksheets()[0]"
      ],
      "execution_count": null,
      "outputs": []
    },
    {
      "cell_type": "code",
      "metadata": {
        "id": "9kZUlyXf1tkf"
      },
      "source": [
        "twitter_links = work_sheet.col_values(5)"
      ],
      "execution_count": null,
      "outputs": []
    },
    {
      "cell_type": "code",
      "metadata": {
        "id": "8zm5OyoG16MR",
        "colab": {
          "base_uri": "https://localhost:8080/"
        },
        "outputId": "81219c8b-b85b-486e-ecf6-39436e94489b"
      },
      "source": [
        "twitter_links"
      ],
      "execution_count": null,
      "outputs": [
        {
          "output_type": "execute_result",
          "data": {
            "text/plain": [
              "['Twitter Link',\n",
              " 'https://twitter.com/Penny_Verse/status/1561711901712625664',\n",
              " 'https://twitter.com/Penny_Verse/status/1561711904053006336',\n",
              " 'https://twitter.com/Penny_Verse/status/1561711906657669120',\n",
              " 'https://twitter.com/Penny_Verse/status/1561711922902286338',\n",
              " 'https://twitter.com/Penny_Verse/status/1561711926320644096',\n",
              " 'https://twitter.com/Penny_Verse/status/1561711948072308736',\n",
              " 'https://twitter.com/Penny_Verse/status/1561711951507378176',\n",
              " 'https://twitter.com/Penny_Verse/status/1561711954204381184',\n",
              " 'https://twitter.com/Penny_Verse/status/1561711958318936066']"
            ]
          },
          "metadata": {},
          "execution_count": 28
        }
      ]
    },
    {
      "cell_type": "code",
      "metadata": {
        "colab": {
          "base_uri": "https://localhost:8080/"
        },
        "id": "PXTc7xOW4ccw",
        "outputId": "16190541-1239-416b-ca68-8fd47232d7fa"
      },
      "source": [
        "print(len(twitter_links))"
      ],
      "execution_count": null,
      "outputs": [
        {
          "output_type": "stream",
          "name": "stdout",
          "text": [
            "10\n"
          ]
        }
      ]
    },
    {
      "cell_type": "code",
      "source": [
        "api = twitter.Api(consumer_key=<consumer key>,#add The Consumer Key here\n",
        "                  consumer_secret=<consumer secret>,#Add the Consumer Secret here\n",
        "                  access_token_key=<access token>,#Add The Access Token Here\n",
        "                  access_token_secret=<access token secret>#Add The Access Token Secret Here)"
      ],
      "metadata": {
        "id": "vATQnc6W-Mpg"
      },
      "execution_count": null,
      "outputs": []
    },
    {
      "cell_type": "code",
      "source": [
        "from gspread import urls\n",
        "\n",
        "\n",
        "# Authenticate with Twitter API\n",
        "auth = tweepy.OAuth1UserHandler(\n",
        "   \"API / Consumer Key here\", \"API / Consumer Secret here\",\n",
        "   \"Access Token here\", \"Access Token Secret here\"\n",
        ")\n",
        "auth.set_access_token(access_token, access_token_secret)#Add the Access Token and the Access Token Secter Here.\n",
        "api = tweepy.API(auth)\n"
      ],
      "metadata": {
        "id": "xo7bcqQlA93O"
      },
      "execution_count": null,
      "outputs": []
    },
    {
      "cell_type": "code",
      "metadata": {
        "id": "Y4yWVakB4jEw"
      },
      "source": [
        "from traitlets.traitlets import link\n",
        "def scrape_tweet_data(link):\n",
        "\n",
        "# Initialize a list to store profile URLs\n",
        "profile_urls = []\n",
        "\n",
        "try:\n",
        "    for tweet_url in link:\n",
        "        # Extract tweet ID from the URL\n",
        "        tweet_id = tweet_url.split('/')[-1]\n",
        "\n",
        "        # Get tweet details\n",
        "        tweet = api.get_status(tweet_id)\n",
        "\n",
        "        # Get user's screen name (username)\n",
        "        screen_name = tweet.user.screen_name\n",
        "\n",
        "        # Construct the profile URL\n",
        "        profile_url = f\"https://twitter.com/{screen_name}\"\n",
        "\n",
        "        # Append the profile URL to the list\n",
        "        profile_urls.append(profile_url)\n",
        "\n",
        "except tweepy.TweepError as e:\n",
        "    print(f\"An error occurred: {e}\")\n",
        "\n",
        "# Initialize a list to store timestamp strings\n",
        "timestamps = []\n",
        "\n",
        "try:\n",
        "    for tweet_url in link:\n",
        "        # Extract tweet ID from the URL\n",
        "        tweet_id = tweet_url.split('/')[-1]\n",
        "\n",
        "        # Get tweet details\n",
        "        tweet = api.get_status(tweet_id)\n",
        "\n",
        "        # Get creation timestamp of the tweet\n",
        "        timestamp = tweet.created_at.strftime('%Y-%m-%d %H:%M:%S')\n",
        "\n",
        "        # Append the timestamp to the list\n",
        "        timestamps.append(timestamp)\n",
        "\n",
        "except tweepy.TweepError as e:\n",
        "    print(f\"An error occurred: {e}\")\n",
        "links = []\n",
        "#For initializing a list of Links\n",
        "for i in link:\n",
        "  links.append(i)\n",
        "\n",
        "# Initialize a list to store like counts\n",
        "like_counts = []\n",
        "\n",
        "try:\n",
        "    for tweet_url in link:\n",
        "        # Extract tweet ID from the URL\n",
        "        tweet_id = tweet_url.split('/')[-1]\n",
        "\n",
        "        # Get tweet details\n",
        "        tweet = api.get_status(tweet_id)\n",
        "\n",
        "        # Get favorite (like) count of the tweet\n",
        "        like_count = tweet.favorite_count\n",
        "\n",
        "        # Append the like count to the list\n",
        "        like_counts.append(like_count)\n",
        "\n",
        "except tweepy.TweepError as e:\n",
        "    print(f\"An error occurred: {e}\")\n",
        "\n",
        "# Initialize a list to store tweet texts\n",
        "tweet_texts = []\n",
        "\n",
        "try:\n",
        "    for tweet_url in link:\n",
        "        # Extract tweet ID from the URL\n",
        "        tweet_id = tweet_url.split('/')[-1]\n",
        "\n",
        "        # Get tweet details\n",
        "        tweet = api.get_status(tweet_id)\n",
        "\n",
        "        # Get text content of the tweet\n",
        "        tweet_text = tweet.text\n",
        "\n",
        "        # Append the tweet text to the list\n",
        "        tweet_texts.append(tweet_text)\n",
        "\n",
        "except tweepy.TweepError as e:\n",
        "    print(f\"An error occurred: {e}\")\n",
        "\n",
        "  required_data = {Time_stamp : timestamps,\n",
        "  URL : profile_url,\n",
        "  Influencer_Tweet : links,\n",
        "  Influencer_Tweet_likes : like_counts,\n",
        "  Influencer_Tweet_text : tweet_texts}\n",
        "\n",
        "  List_of_data = []\n",
        "  List_of_data.append(required_data)\n",
        "\n",
        "  df = pd.DataFrame(List_of_data)\n",
        "  df.to_csv()#Now add the csv file here with extension csv and put the 2nd parameter \"index= False\"\n",
        "\n",
        "  print(link)"
      ],
      "execution_count": null,
      "outputs": []
    },
    {
      "cell_type": "code",
      "metadata": {
        "id": "M5ACtLEsDzuO"
      },
      "source": [
        "for tweets in twitter_links:\n",
        "  scrape_tweet_data(tweets)"
      ],
      "execution_count": null,
      "outputs": []
    },
    {
      "cell_type": "code",
      "metadata": {
        "id": "osce2oupD948"
      },
      "source": [],
      "execution_count": null,
      "outputs": []
    }
  ]
}